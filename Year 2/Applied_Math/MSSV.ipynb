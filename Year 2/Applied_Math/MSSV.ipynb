{
 "cells": [
  {
   "cell_type": "markdown",
   "metadata": {},
   "source": [
    "# Project 01 - Color Compression"
   ]
  },
  {
   "cell_type": "markdown",
   "metadata": {},
   "source": [
    "## Thông tin sinh viên"
   ]
  },
  {
   "cell_type": "markdown",
   "metadata": {},
   "source": [
    "- Họ và tên:\n",
    "- MSSV:\n",
    "- Lớp:"
   ]
  },
  {
   "cell_type": "markdown",
   "metadata": {},
   "source": [
    "## Import các thư viện liên quan"
   ]
  },
  {
   "cell_type": "code",
   "execution_count": 107,
   "metadata": {},
   "outputs": [],
   "source": [
    "import matplotlib.pyplot as plt\n",
    "import PIL\n",
    "import numpy as np\n",
    "import math"
   ]
  },
  {
   "cell_type": "markdown",
   "metadata": {},
   "source": [
    "## Helper functions"
   ]
  },
  {
   "cell_type": "code",
   "execution_count": 108,
   "metadata": {},
   "outputs": [],
   "source": [
    "import PIL.Image\n",
    "\n",
    "\n",
    "def read_img(img_path):\n",
    "    '''\n",
    "    Read image from img_path\n",
    "\n",
    "    Parameters\n",
    "    ----------\n",
    "    img_path : str\n",
    "        Path of image\n",
    "\n",
    "    Returns\n",
    "    -------\n",
    "        Image (2D)\n",
    "    '''\n",
    "\n",
    "    # YOUR CODE HERE\n",
    "    return PIL.Image.open(img_path)\n",
    "\n",
    "def show_img(img_2d):\n",
    "    '''\n",
    "    Show image\n",
    "\n",
    "    Parameters\n",
    "    ----------\n",
    "    img_2d : <your type>\n",
    "        Image (2D)\n",
    "    '''\n",
    "\n",
    "    # YOUR CODE HERE\n",
    "    plt.imshow(img_2d)\n",
    "\n",
    "def save_img(img_2d, img_path):\n",
    "    '''\n",
    "    Save image to img_path\n",
    "\n",
    "    Parameters\n",
    "    ----------\n",
    "    img_2d : <your type>\n",
    "        Image (2D)\n",
    "    img_path : str\n",
    "        Path of image\n",
    "    '''\n",
    "    \n",
    "    # YOUR CODE HERE\n",
    "    img_2d.save(img_path, 'PNG')\n",
    "\n",
    "def convert_img_to_1d(img_2d):\n",
    "    '''\n",
    "    Convert 2D image to 1D image\n",
    "\n",
    "    Parameters\n",
    "    ----------\n",
    "    img_2d : <your type>\n",
    "        Image (2D)\n",
    "\n",
    "    Returns\n",
    "    -------\n",
    "        Image (1D)\n",
    "    '''\n",
    "    \n",
    "    # YOUR CODE HERE\n",
    "    A = np.asarray(img_2d)\n",
    "    X = A.reshape(A.shape[0] * A.shape[1], A.shape[2])\n",
    "    return X\n",
    "\n",
    "def kmeans(img_1d, k_clusters, max_iter, init_centroids='random'):\n",
    "    '''\n",
    "    K-Means algorithm\n",
    "\n",
    "    Parameters\n",
    "    ----------\n",
    "    img_1d : np.ndarray with shape=(height * width, num_channels)\n",
    "        Original (1D) image\n",
    "    k_clusters : int\n",
    "        Number of clusters\n",
    "    max_iter : int\n",
    "        Max iterator\n",
    "    init_centroids : str, default='random'\n",
    "        The method used to initialize the centroids for K-means clustering\n",
    "        'random' --> Centroids are initialized with random values between 0 and 255 for each channel\n",
    "        'in_pixels' --> A random pixel from the original image is selected as a centroid for each cluster\n",
    "\n",
    "    Returns\n",
    "    -------\n",
    "    centroids : np.ndarray with shape=(k_clusters, num_channels)\n",
    "        Stores the color centroids for each cluster\n",
    "    labels : np.ndarray with shape=(height * width, )\n",
    "        Stores the cluster label for each pixel in the image\n",
    "    '''\n",
    "    \n",
    "    # YOUR CODE HERE\n",
    "\n",
    "\n",
    "def generate_2d_img(img_2d_shape, centroids, labels):\n",
    "    '''\n",
    "    Generate a 2D image based on K-means cluster centroids\n",
    "\n",
    "    Parameters\n",
    "    ----------\n",
    "    img_2d_shape : tuple (height, width, 3)\n",
    "        Shape of image\n",
    "    centroids : np.ndarray with shape=(k_clusters, num_channels)\n",
    "        Store color centroids\n",
    "    labels : np.ndarray with shape=(height * width, )\n",
    "        Store label for pixels (cluster's index on which the pixel belongs)\n",
    "\n",
    "    Returns\n",
    "    -------\n",
    "        New image (2D)\n",
    "    '''\n",
    "\n",
    "    # YOUR CODE HERE\n",
    "\n",
    "\n",
    "# Your additional functions here\n"
   ]
  },
  {
   "attachments": {},
   "cell_type": "markdown",
   "metadata": {},
   "source": [
    "## Your tests"
   ]
  },
  {
   "cell_type": "code",
   "execution_count": 109,
   "metadata": {},
   "outputs": [],
   "source": [
    "# YOUR CODE HERE"
   ]
  },
  {
   "cell_type": "markdown",
   "metadata": {},
   "source": [
    "## Main FUNCTION"
   ]
  },
  {
   "cell_type": "code",
   "execution_count": 110,
   "metadata": {},
   "outputs": [],
   "source": [
    "# YOUR CODE HERE"
   ]
  },
  {
   "cell_type": "code",
   "execution_count": 111,
   "metadata": {},
   "outputs": [],
   "source": [
    "# Call main function"
   ]
  },
  {
   "cell_type": "markdown",
   "metadata": {},
   "source": [
    "# TESTING ZONE\n"
   ]
  },
  {
   "cell_type": "code",
   "execution_count": null,
   "metadata": {},
   "outputs": [],
   "source": [
    "# https://www.youtube.com/watch?v=5w5iUbTlpMQ\n",
    "# https://www.youtube.com/watch?v=8mUi6U_5ZCg\n",
    "\n",
    "def kmeans(img_1d, k_clusters, max_iter, init_centroids='random'):\n",
    "    '''\n",
    "    K-Means algorithm\n",
    "\n",
    "    Parameters\n",
    "    ----------\n",
    "    img_1d : np.ndarray with shape=(height * width, num_channels)\n",
    "        Original (1D) image\n",
    "    k_clusters : int\n",
    "        Number of clusters\n",
    "    max_iter : int\n",
    "        Max iterator\n",
    "    init_centroids : str, default='random'\n",
    "        The method used to initialize the centroids for K-means clustering\n",
    "        'random' --> Centroids are initialized with random values between 0 and 255 for each channel\n",
    "        'in_pixels' --> A random pixel from the original image is selected as a centroid for each cluster\n",
    "\n",
    "    Returns\n",
    "    -------\n",
    "    centroids : np.ndarray with shape=(k_clusters, num_channels)\n",
    "        Stores the color centroids for each cluster\n",
    "    labels : np.ndarray with shape=(height * width, )\n",
    "        Stores the cluster label for each pixel in the image\n",
    "    '''\n",
    "    \n",
    "    # YOUR CODE HERE\n",
    "\n",
    "\n",
    "class KMeansClustering:\n",
    "    def __init__(self, k = 3):\n",
    "        self.k = k\n",
    "        self.centroids = None\n",
    "\n",
    "    def fit(self, X, max_iter = 100): # X: 1D Image\n",
    "        self.centroids = np.random.uniform(np.min(X, axis=0), np.max(X, axis=0), size=(self.k, X.shape[1]))\n",
    "\n",
    "        for \n"
   ]
  },
  {
   "cell_type": "code",
   "execution_count": 136,
   "metadata": {},
   "outputs": [
    {
     "name": "stdout",
     "output_type": "stream",
     "text": [
      "(4194304, 3)\n",
      "[[ 75.38181812 133.57858352  66.44114554]\n",
      " [233.89996304  56.20790727 126.70282429]\n",
      " [ 76.84663823 224.65630316  43.88347084]\n",
      " [164.05058074  37.70605474  25.36633363]\n",
      " [182.99786533 188.60385279  46.6978235 ]\n",
      " [ 13.6462462   16.56373356 122.29563137]]\n"
     ]
    },
    {
     "data": {
      "text/plain": [
       "(100, 2)"
      ]
     },
     "execution_count": 136,
     "metadata": {},
     "output_type": "execute_result"
    }
   ],
   "source": [
    "# testImgPath =  'C:\\\\Users\\\\Admin\\\\Documents\\\\HCMUS\\\\Year 2\\\\Applied_Math\\\\Picture\\\\undefined - Imgur.png'\n",
    "testImgPath =  'C:\\\\Users\\\\Admin\\\\Documents\\\\HCMUS\\\\Year 2\\\\Applied_Math\\\\Picture\\\\2456269.jpg'\n",
    "testImg = read_img(testImgPath)\n",
    "convert_img_to_1d(testImg)\n",
    "oriArray = np.asarray(testImg)\n",
    "newArray = oriArray.reshape(oriArray.shape[0]*oriArray.shape[1], oriArray.shape[2])\n",
    "\n",
    "k = 6\n",
    "\n",
    "centroids = np.random.uniform(np.min(newArray, axis=0), np.max(newArray, axis=0), size=(k, newArray.shape[1]))\n",
    "# centroids_2 = np.random.uniform(np.min(newArray), np.max(newArray), size=(k, newArray.shape[1]))\n",
    "print(newArray.shape)\n",
    "\n",
    "print(centroids)\n",
    "\n",
    "random_points = np.random.randint(0, 100, (100, 2))\n",
    "random_points.shape\n",
    "\n",
    "# show_img(testImg)\n",
    "# A = np.asarray(testImg)\n",
    "# newImg = PIL.Image.fromarray(A*3)\n",
    "\n",
    "# newPath = 'C:\\\\Users\\\\Admin\\\\Documents\\\\HCMUS\\\\Year 2\\\\Applied_Math\\\\Picture\\\\whatisthis.png'\n",
    "# save_img(newImg, newPath)"
   ]
  }
 ],
 "metadata": {
  "kernelspec": {
   "display_name": "Python 3",
   "language": "python",
   "name": "python3"
  },
  "language_info": {
   "codemirror_mode": {
    "name": "ipython",
    "version": 3
   },
   "file_extension": ".py",
   "mimetype": "text/x-python",
   "name": "python",
   "nbconvert_exporter": "python",
   "pygments_lexer": "ipython3",
   "version": "3.12.2"
  }
 },
 "nbformat": 4,
 "nbformat_minor": 4
}
